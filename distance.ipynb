{
 "cells": [
  {
   "cell_type": "code",
   "execution_count": 1,
   "id": "9b1d7941-d4b7-4a70-bdb0-cf7f065f832c",
   "metadata": {},
   "outputs": [],
   "source": [
    "import pandas as pd\n",
    "import math"
   ]
  },
  {
   "cell_type": "code",
   "execution_count": 2,
   "id": "9f0a5f6c-9864-4f47-89dc-f9975643590c",
   "metadata": {},
   "outputs": [],
   "source": [
    "df = pd.read_excel('Book1.xlsx')\n",
    "route = [0,1,3,5]"
   ]
  },
  {
   "cell_type": "code",
   "execution_count": 3,
   "id": "4be8c291-0c4e-4e1e-b523-5c0b53ef8448",
   "metadata": {},
   "outputs": [
    {
     "data": {
      "text/html": [
       "<div>\n",
       "<style scoped>\n",
       "    .dataframe tbody tr th:only-of-type {\n",
       "        vertical-align: middle;\n",
       "    }\n",
       "\n",
       "    .dataframe tbody tr th {\n",
       "        vertical-align: top;\n",
       "    }\n",
       "\n",
       "    .dataframe thead th {\n",
       "        text-align: right;\n",
       "    }\n",
       "</style>\n",
       "<table border=\"1\" class=\"dataframe\">\n",
       "  <thead>\n",
       "    <tr style=\"text-align: right;\">\n",
       "      <th></th>\n",
       "      <th>Lat</th>\n",
       "      <th>Long</th>\n",
       "    </tr>\n",
       "  </thead>\n",
       "  <tbody>\n",
       "    <tr>\n",
       "      <th>0</th>\n",
       "      <td>50</td>\n",
       "      <td>50</td>\n",
       "    </tr>\n",
       "    <tr>\n",
       "      <th>1</th>\n",
       "      <td>23</td>\n",
       "      <td>33</td>\n",
       "    </tr>\n",
       "    <tr>\n",
       "      <th>2</th>\n",
       "      <td>79</td>\n",
       "      <td>10</td>\n",
       "    </tr>\n",
       "    <tr>\n",
       "      <th>3</th>\n",
       "      <td>79</td>\n",
       "      <td>21</td>\n",
       "    </tr>\n",
       "    <tr>\n",
       "      <th>4</th>\n",
       "      <td>9</td>\n",
       "      <td>99</td>\n",
       "    </tr>\n",
       "    <tr>\n",
       "      <th>5</th>\n",
       "      <td>41</td>\n",
       "      <td>7</td>\n",
       "    </tr>\n",
       "    <tr>\n",
       "      <th>6</th>\n",
       "      <td>10</td>\n",
       "      <td>95</td>\n",
       "    </tr>\n",
       "    <tr>\n",
       "      <th>7</th>\n",
       "      <td>13</td>\n",
       "      <td>9</td>\n",
       "    </tr>\n",
       "    <tr>\n",
       "      <th>8</th>\n",
       "      <td>44</td>\n",
       "      <td>44</td>\n",
       "    </tr>\n",
       "  </tbody>\n",
       "</table>\n",
       "</div>"
      ],
      "text/plain": [
       "   Lat  Long\n",
       "0   50    50\n",
       "1   23    33\n",
       "2   79    10\n",
       "3   79    21\n",
       "4    9    99\n",
       "5   41     7\n",
       "6   10    95\n",
       "7   13     9\n",
       "8   44    44"
      ]
     },
     "execution_count": 3,
     "metadata": {},
     "output_type": "execute_result"
    }
   ],
   "source": [
    "df"
   ]
  },
  {
   "cell_type": "code",
   "execution_count": 4,
   "id": "092344ad-f59f-45f5-b1aa-7c0e60ea6201",
   "metadata": {},
   "outputs": [
    {
     "data": {
      "text/plain": [
       "27.0"
      ]
     },
     "execution_count": 4,
     "metadata": {},
     "output_type": "execute_result"
    }
   ],
   "source": [
    "x1 = df['Lat'][0]\n",
    "y1 = df['Long'][0]\n",
    "\n",
    "x2 = df['Lat'][1]\n",
    "y2 = df['Long'][1]\n",
    "\n",
    "math.sqrt(((x2-x1)**2) + ((y2-y2)**2))"
   ]
  },
  {
   "cell_type": "markdown",
   "id": "fbede4c1-6331-42a5-8c38-799dbe2f23bd",
   "metadata": {},
   "source": [
    "## Ecredient distance "
   ]
  },
  {
   "cell_type": "code",
   "execution_count": 20,
   "id": "1632f28b-15c4-40c0-b972-2101a0ae4cea",
   "metadata": {},
   "outputs": [
    {
     "name": "stdout",
     "output_type": "stream",
     "text": [
      "[[0.0, 3809.2579364978906, 3421.2938806962634, 1220.184023892448], [3809.2579364978906, 0.0, 6805.016067012509, 2613.1650269814563], [3421.2938806962634, 6805.016067012509, 0.0, 4531.991794338655], [1220.184023892448, 2613.1650269814563, 4531.991794338655, 0.0]]\n",
      "0.0009949207305908203\n"
     ]
    }
   ],
   "source": [
    "import time\n",
    "from math import cos, asin, sqrt, pi\n",
    "\n",
    "start = time.time()\n",
    "\n",
    "            \n",
    "def ucredient(lat1, lon1, lat2, lon2):\n",
    "    d = math.sqrt(((lat2-lat1)**2) + ((lon2-lon1)**2))\n",
    "    return d\n",
    "\n",
    "def haversine(lat1, lon1, lat2, lon2): # great-circle distance\n",
    "    p = pi/180\n",
    "    a = 0.5 - cos((lat2-lat1)*p)/2 + cos(lat1*p) * cos(lat2*p) * (1-cos((lon2-lon1)*p))/2\n",
    "    return 12742 * asin(sqrt(a)) #2*R*asin...\n",
    "\n",
    "def cal(route, df):\n",
    "    distance = []\n",
    "    for idx, p1 in enumerate(route):\n",
    "        distance.append([])\n",
    "        lat1 = df['Lat'].loc[p1]\n",
    "        lon1 = df['Lat'].loc[p1]\n",
    "\n",
    "        for p2 in route:\n",
    "            lat2 = df['Lat'].loc[p2]\n",
    "            lon2 = df['Lat'].loc[p2]\n",
    "\n",
    "            d = haversine(lat1,lon1, lat2, lon2)\n",
    "            distance[idx].append(d)\n",
    "    print(distance)\n",
    "\n",
    "cal(route, df)\n",
    "\n",
    "    \n",
    "end = time.time()\n",
    "print(end - start)"
   ]
  },
  {
   "cell_type": "code",
   "execution_count": null,
   "id": "a522ef91-d231-408b-b122-054de52c5b48",
   "metadata": {},
   "outputs": [],
   "source": [
    "0.001998424530029297"
   ]
  },
  {
   "cell_type": "code",
   "execution_count": null,
   "id": "2bfea228-ae93-43b1-b654-3be4a2c0103a",
   "metadata": {},
   "outputs": [],
   "source": []
  }
 ],
 "metadata": {
  "kernelspec": {
   "display_name": "Python 3 (ipykernel)",
   "language": "python",
   "name": "python3"
  },
  "language_info": {
   "codemirror_mode": {
    "name": "ipython",
    "version": 3
   },
   "file_extension": ".py",
   "mimetype": "text/x-python",
   "name": "python",
   "nbconvert_exporter": "python",
   "pygments_lexer": "ipython3",
   "version": "3.7.11"
  }
 },
 "nbformat": 4,
 "nbformat_minor": 5
}
