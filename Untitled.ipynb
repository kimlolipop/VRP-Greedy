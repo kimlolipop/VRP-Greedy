{
 "cells": [
  {
   "cell_type": "code",
   "execution_count": 6,
   "id": "7a88df19-a326-43d5-b191-bf9d5c95426a",
   "metadata": {},
   "outputs": [],
   "source": [
    "type_car = {'4wheel':[1,4],\n",
    "           'bike':1}"
   ]
  },
  {
   "cell_type": "code",
   "execution_count": 10,
   "id": "dcb98cee-7231-4278-9a46-e6c9120cb59a",
   "metadata": {},
   "outputs": [
    {
     "data": {
      "text/plain": [
       "4"
      ]
     },
     "execution_count": 10,
     "metadata": {},
     "output_type": "execute_result"
    }
   ],
   "source": [
    "type_car['4wheel'][1]"
   ]
  },
  {
   "cell_type": "code",
   "execution_count": 11,
   "id": "5dab52da-1a02-42ff-adc8-f24a3144c052",
   "metadata": {},
   "outputs": [
    {
     "data": {
      "text/plain": [
       "2"
      ]
     },
     "execution_count": 11,
     "metadata": {},
     "output_type": "execute_result"
    }
   ],
   "source": [
    "len(type_car)"
   ]
  },
  {
   "cell_type": "code",
   "execution_count": 1,
   "id": "5f0465fa-048e-48ab-b899-f81c78b9d5f8",
   "metadata": {},
   "outputs": [],
   "source": [
    "demand = {'0':[0,0], '3':[1,2,500], '223':[1,1,400]}"
   ]
  },
  {
   "cell_type": "code",
   "execution_count": 9,
   "id": "75ae9527-4fcb-445b-a7ac-3bed997c4c02",
   "metadata": {},
   "outputs": [
    {
     "name": "stdout",
     "output_type": "stream",
     "text": [
      "3\n",
      "[1, 2, 500]\n"
     ]
    }
   ],
   "source": [
    "print(list(demand)[1])\n",
    "print(list(demand.values())[1])\n"
   ]
  },
  {
   "cell_type": "code",
   "execution_count": null,
   "id": "9154d0f7-a277-4a27-9ca4-4bf2983c044c",
   "metadata": {},
   "outputs": [],
   "source": []
  }
 ],
 "metadata": {
  "kernelspec": {
   "display_name": "Python 3 (ipykernel)",
   "language": "python",
   "name": "python3"
  },
  "language_info": {
   "codemirror_mode": {
    "name": "ipython",
    "version": 3
   },
   "file_extension": ".py",
   "mimetype": "text/x-python",
   "name": "python",
   "nbconvert_exporter": "python",
   "pygments_lexer": "ipython3",
   "version": "3.7.11"
  }
 },
 "nbformat": 4,
 "nbformat_minor": 5
}
